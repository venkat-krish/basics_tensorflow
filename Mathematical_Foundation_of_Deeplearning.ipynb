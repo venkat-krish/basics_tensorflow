{
  "nbformat": 4,
  "nbformat_minor": 0,
  "metadata": {
    "colab": {
      "name": "Mathematical Foundation of Deeplearning.ipynb",
      "provenance": [],
      "collapsed_sections": [],
      "authorship_tag": "ABX9TyNss7OH2hmoz3t93o9wEb5r",
      "include_colab_link": true
    },
    "kernelspec": {
      "name": "python3",
      "display_name": "Python 3"
    }
  },
  "cells": [
    {
      "cell_type": "markdown",
      "metadata": {
        "id": "view-in-github",
        "colab_type": "text"
      },
      "source": [
        "<a href=\"https://colab.research.google.com/github/venkat-krish/basics_tensorflow/blob/master/Mathematical_Foundation_of_Deeplearning.ipynb\" target=\"_parent\"><img src=\"https://colab.research.google.com/assets/colab-badge.svg\" alt=\"Open In Colab\"/></a>"
      ]
    },
    {
      "cell_type": "code",
      "metadata": {
        "id": "Q92D43e5_Fzp",
        "colab_type": "code",
        "colab": {}
      },
      "source": [
        "import numpy as np"
      ],
      "execution_count": 0,
      "outputs": []
    },
    {
      "cell_type": "code",
      "metadata": {
        "id": "AmmD39ut_Nxi",
        "colab_type": "code",
        "colab": {
          "base_uri": "https://localhost:8080/",
          "height": 252
        },
        "outputId": "2ffac44a-f0f9-4d74-d293-9a50ebaed8e0"
      },
      "source": [
        "w = np.array([[1,0.5],[2,1]])\n",
        "input = np.array([[1,2], [-1,2]])\n",
        "b = np.array([-2, 0.5])\n",
        "\n",
        "def display_info(arr):\n",
        "  print(\"# of axes in arr={0}\".format(arr.ndim))\n",
        "  print(\"Shape of the arr {0}\".format(arr.shape))\n",
        "  print(\"Datatype of arr: {0}\".format(arr.dtype))\n",
        "  print(\"Values of arr : {0}\".format(arr))\n",
        "  \n",
        "display_info(w)\n",
        "display_info(input)\n",
        "display_info(b)\n"
      ],
      "execution_count": 9,
      "outputs": [
        {
          "output_type": "stream",
          "text": [
            "# of axes in arr=2\n",
            "Shape of the arr (2, 2)\n",
            "Datatype of arr: float64\n",
            "Values of arr : [[1.  0.5]\n",
            " [2.  1. ]]\n",
            "# of axes in arr=2\n",
            "Shape of the arr (2, 2)\n",
            "Datatype of arr: int64\n",
            "Values of arr : [[ 1  2]\n",
            " [-1  2]]\n",
            "# of axes in arr=1\n",
            "Shape of the arr (2,)\n",
            "Datatype of arr: float64\n",
            "Values of arr : [-2.   0.5]\n"
          ],
          "name": "stdout"
        }
      ]
    },
    {
      "cell_type": "markdown",
      "metadata": {
        "id": "0uFjiYmPAUnU",
        "colab_type": "text"
      },
      "source": [
        "Let's apply linear combination "
      ]
    },
    {
      "cell_type": "code",
      "metadata": {
        "id": "8PyMlmlA_aIs",
        "colab_type": "code",
        "colab": {
          "base_uri": "https://localhost:8080/",
          "height": 101
        },
        "outputId": "1156be84-b64b-4443-a22d-67c9b02362e2"
      },
      "source": [
        "z = np.dot(w, input) + b\n",
        "\n",
        "display_info(z)\n"
      ],
      "execution_count": 10,
      "outputs": [
        {
          "output_type": "stream",
          "text": [
            "# of axes in arr=2\n",
            "Shape of the arr (2, 2)\n",
            "Datatype of arr: float64\n",
            "Values of arr : [[-1.5  3.5]\n",
            " [-1.   6.5]]\n"
          ],
          "name": "stdout"
        }
      ]
    },
    {
      "cell_type": "markdown",
      "metadata": {
        "id": "VFmKh2KhBGka",
        "colab_type": "text"
      },
      "source": [
        "Let's apply non-linear activation with ReLu:"
      ]
    },
    {
      "cell_type": "code",
      "metadata": {
        "id": "i08jTu70Ahut",
        "colab_type": "code",
        "colab": {
          "base_uri": "https://localhost:8080/",
          "height": 101
        },
        "outputId": "9ce8f1b1-d280-4ee2-b1e0-c35b782b5e88"
      },
      "source": [
        "output = np.maximum(0., z)\n",
        "\n",
        "display_info(output)\n"
      ],
      "execution_count": 11,
      "outputs": [
        {
          "output_type": "stream",
          "text": [
            "# of axes in arr=2\n",
            "Shape of the arr (2, 2)\n",
            "Datatype of arr: float64\n",
            "Values of arr : [[0.  3.5]\n",
            " [0.  6.5]]\n"
          ],
          "name": "stdout"
        }
      ]
    },
    {
      "cell_type": "markdown",
      "metadata": {
        "id": "P1S6Qn0gCvbf",
        "colab_type": "text"
      },
      "source": [
        "Let us visualize the few commonly used activation\n"
      ]
    },
    {
      "cell_type": "code",
      "metadata": {
        "id": "9kTm30VVBWXi",
        "colab_type": "code",
        "colab": {
          "base_uri": "https://localhost:8080/",
          "height": 279
        },
        "outputId": "23ceafc7-83da-477f-cc22-ad964410c807"
      },
      "source": [
        "import matplotlib.pyplot as plt\n",
        "# relu activation\n",
        "x = np.linspace(-10,10,100)\n",
        "z = np.maximum(0., x)\n",
        "\n",
        "plt.plot(x, z)\n",
        "plt.xlabel('X')\n",
        "plt.ylabel(\"relu(x)\")\n",
        "plt.show()"
      ],
      "execution_count": 12,
      "outputs": [
        {
          "output_type": "display_data",
          "data": {
            "image/png": "[encoded data removed]",
            "text/plain": [
              "<Figure size 432x288 with 1 Axes>"
            ]
          },
          "metadata": {
            "tags": []
          }
        }
      ]
    },
    {
      "cell_type": "code",
      "metadata": {
        "id": "0h0X9HG8DOiK",
        "colab_type": "code",
        "colab": {
          "base_uri": "https://localhost:8080/",
          "height": 279
        },
        "outputId": "e6550e01-f360-4e47-df9a-8f5f58167a1b"
      },
      "source": [
        "# Sigmoid activation\n",
        "import math\n",
        "\n",
        "z = 1/(1+np.exp(-x))\n",
        "plt.plot(x,z)\n",
        "plt.xlabel('X')\n",
        "plt.ylabel(\"Sig(x)\")\n",
        "plt.show()"
      ],
      "execution_count": 13,
      "outputs": [
        {
          "output_type": "display_data",
          "data": {
            "image/png": "[encoded data removed]",
            "text/plain": [
              "<Figure size 432x288 with 1 Axes>"
            ]
          },
          "metadata": {
            "tags": []
          }
        }
      ]
    },
    {
      "cell_type": "code",
      "metadata": {
        "id": "ckf10EggDoBm",
        "colab_type": "code",
        "colab": {}
      },
      "source": [
        ""
      ],
      "execution_count": 0,
      "outputs": []
    },
    {
      "cell_type": "markdown",
      "metadata": {
        "id": "f94UyqsHD7sJ",
        "colab_type": "text"
      },
      "source": [
        "## Broadcasting\n",
        "\n",
        "Broadcasting is employed when there are two incompatible tensors involved in operations. \n",
        "1. Axes are added to smaller tensor to match the n-dim of the larger tensor.\n",
        "2. The smaller tensor is repeated alongside these new axes to match the full shape of the larger tensor.\n"
      ]
    },
    {
      "cell_type": "code",
      "metadata": {
        "id": "rQYG3ckSEWwI",
        "colab_type": "code",
        "colab": {
          "base_uri": "https://localhost:8080/",
          "height": 1000
        },
        "outputId": "cf2f9701-f1d9-4101-c715-61c0c1fcfa41"
      },
      "source": [
        "x1 = np.random.rand(32, 10)\n",
        "x2 = np.random.rand(10,)\n",
        "\n",
        "display_info(x1)\n",
        "display_info(x2)\n",
        "\n",
        "# Broadcasting\n",
        "x2 = np.expand_dims(x2, axis=0)\n",
        "print(\"Shape of the x2 after broadcasting\", x2.shape)\n",
        "\n",
        "x2 = np.repeat(x2, 32, axis=0)\n",
        "print(\"shape of x2 after broadcasting : \", x2.shape)"
      ],
      "execution_count": 16,
      "outputs": [
        {
          "output_type": "stream",
          "text": [
            "# of axes in arr=2\n",
            "Shape of the arr (32, 10)\n",
            "Datatype of arr: float64\n",
            "Values of arr : [[9.61387497e-01 9.06921566e-01 7.95679305e-01 2.64203058e-01\n",
            "  6.72338054e-01 1.05385096e-01 5.29136570e-01 8.76267914e-01\n",
            "  9.13690525e-01 2.12426400e-01]\n",
            " [3.89094725e-01 6.96824739e-01 4.92510692e-01 2.66194956e-01\n",
            "  7.32572906e-01 3.25635612e-01 4.90055142e-01 4.59792151e-01\n",
            "  4.70904818e-01 8.17611410e-01]\n",
            " [5.43206566e-01 3.21265725e-01 3.62471306e-01 6.99384367e-01\n",
            "  6.80716632e-01 8.42061810e-01 9.05444326e-04 1.90438261e-01\n",
            "  4.99903469e-01 1.17794154e-01]\n",
            " [3.96676293e-01 9.81247898e-01 9.58243988e-01 7.44871200e-01\n",
            "  1.87192238e-01 5.77801222e-01 7.92680021e-01 5.10758134e-01\n",
            "  9.57753347e-01 7.14583949e-01]\n",
            " [2.53550360e-01 6.06540836e-01 1.85062765e-01 8.14154888e-01\n",
            "  1.15108698e-01 2.96780906e-02 5.24621803e-01 7.55811524e-01\n",
            "  6.65889005e-01 7.41464965e-01]\n",
            " [6.33519423e-01 5.76136280e-01 7.84322836e-01 4.60302321e-01\n",
            "  9.84607988e-01 9.16851738e-01 3.26284535e-01 7.77421826e-01\n",
            "  4.58058506e-01 6.35976502e-01]\n",
            " [4.91589441e-01 6.76557963e-01 4.09002524e-01 8.65079617e-01\n",
            "  2.36153148e-01 8.97934727e-02 7.32397260e-01 2.02707579e-01\n",
            "  7.08501629e-01 1.46553179e-01]\n",
            " [7.32393536e-01 4.26245132e-01 6.19793211e-01 6.08586733e-01\n",
            "  2.56743694e-01 4.35802040e-01 5.57940574e-02 9.02759488e-03\n",
            "  1.84711717e-01 6.71205055e-01]\n",
            " [2.92140548e-01 4.94558126e-01 4.49989502e-01 7.37848851e-01\n",
            "  8.31782992e-01 2.61354732e-01 7.70521036e-01 6.99605797e-01\n",
            "  2.62353190e-01 9.53460949e-01]\n",
            " [1.58241370e-01 5.80312608e-01 5.46453023e-02 9.05173916e-01\n",
            "  9.82107954e-01 9.20266915e-01 6.08423718e-01 9.67956591e-02\n",
            "  9.32075764e-01 3.45301822e-01]\n",
            " [2.12129106e-01 4.01908640e-01 4.98871729e-01 3.21455247e-01\n",
            "  8.51437839e-01 6.73954117e-01 6.06127257e-01 6.65263723e-01\n",
            "  5.98116637e-02 8.59439582e-01]\n",
            " [9.88881321e-01 6.61693610e-02 9.94198110e-02 4.56390178e-02\n",
            "  1.00002538e-01 7.46666867e-01 6.53707740e-01 5.55052559e-01\n",
            "  4.64599206e-01 8.03227965e-02]\n",
            " [9.25311834e-01 3.98504191e-01 4.17294025e-02 7.68698384e-01\n",
            "  2.52537695e-01 6.77484798e-02 5.93720518e-01 6.20122180e-01\n",
            "  8.49021361e-01 5.22430745e-01]\n",
            " [6.23965254e-01 1.73900297e-01 7.09547222e-01 1.04219271e-01\n",
            "  2.40464638e-01 2.22061597e-01 4.72354928e-02 9.58451072e-01\n",
            "  9.76235367e-02 4.07638310e-01]\n",
            " [6.81196935e-01 8.62476227e-01 6.54900922e-01 2.08470965e-01\n",
            "  9.92714965e-01 2.43185799e-02 3.15914214e-01 8.74949358e-01\n",
            "  4.60115491e-01 4.10722201e-01]\n",
            " [4.04433861e-01 9.54733820e-01 1.68037798e-01 5.64297009e-01\n",
            "  4.81299304e-01 3.31993209e-02 7.67433238e-01 9.34259317e-01\n",
            "  2.90981130e-01 6.61539940e-01]\n",
            " [3.71600314e-02 9.90698868e-01 8.08179461e-01 8.31833594e-02\n",
            "  9.81810038e-02 2.69889376e-01 9.50533281e-01 4.28187377e-01\n",
            "  6.63774505e-01 2.56642652e-01]\n",
            " [1.73035145e-02 5.88020854e-01 1.71415504e-01 7.38959085e-01\n",
            "  6.08812864e-01 7.59289171e-01 1.55541130e-01 9.88422403e-01\n",
            "  4.75447064e-01 8.13454722e-01]\n",
            " [7.46129534e-01 6.22682234e-01 9.84022948e-01 5.96193364e-01\n",
            "  1.37680562e-01 9.92702214e-01 5.88228907e-01 4.42062225e-01\n",
            "  5.64327237e-01 5.20385292e-01]\n",
            " [3.13939045e-01 4.61706121e-01 8.72373776e-01 9.43581185e-01\n",
            "  2.29725255e-01 2.17172757e-01 7.18515188e-01 5.98083813e-01\n",
            "  8.08881713e-01 6.52955761e-01]\n",
            " [5.93681937e-01 3.91371936e-01 5.87383557e-01 3.01259327e-01\n",
            "  2.39268075e-02 1.35114628e-01 1.32372334e-01 6.15433833e-01\n",
            "  9.21277775e-01 5.98162064e-01]\n",
            " [3.37536096e-01 8.55336900e-01 2.02927725e-01 9.18805127e-01\n",
            "  2.19112064e-01 9.38029528e-01 2.06017166e-01 3.43104804e-01\n",
            "  3.68023606e-02 7.35979956e-01]\n",
            " [4.82630308e-01 8.24215316e-01 4.40348709e-01 3.80113631e-01\n",
            "  1.26201224e-03 3.68385446e-01 6.84894174e-01 8.60415735e-01\n",
            "  2.56569033e-01 5.26793449e-01]\n",
            " [9.12871432e-01 7.70991568e-01 1.98722936e-01 9.69400186e-01\n",
            "  6.21571659e-01 7.26291201e-01 4.53230409e-01 8.89458821e-01\n",
            "  4.71175158e-02 7.61921003e-01]\n",
            " [3.51912284e-01 9.44488785e-01 4.11029032e-02 1.58270162e-01\n",
            "  5.31476920e-02 5.99381301e-01 4.98144997e-01 4.55318037e-01\n",
            "  7.21008337e-01 8.40804866e-01]\n",
            " [8.27485492e-01 7.78932799e-01 3.65835006e-01 2.08233448e-03\n",
            "  2.04607034e-01 6.16834378e-01 6.24094532e-01 4.41510028e-01\n",
            "  4.06658136e-01 4.06279945e-01]\n",
            " [7.04324475e-01 3.59272948e-01 3.67439869e-01 3.72871067e-01\n",
            "  5.77185784e-01 8.88170186e-02 5.79933392e-01 6.70394084e-01\n",
            "  5.89634776e-01 8.56819298e-01]\n",
            " [8.98283510e-01 6.67097915e-01 2.73135404e-01 6.86703714e-01\n",
            "  1.28647442e-01 4.67464500e-02 4.63641767e-02 6.29616665e-01\n",
            "  1.23854402e-01 3.72524892e-01]\n",
            " [1.98067746e-02 8.71654419e-01 5.93655819e-01 4.65591818e-01\n",
            "  2.18321865e-01 9.05962148e-01 5.50931993e-01 9.22486764e-01\n",
            "  2.87127579e-02 2.68117661e-01]\n",
            " [9.91632426e-01 6.71878816e-01 3.65527307e-01 3.81922719e-01\n",
            "  8.04958410e-01 4.66338067e-01 9.35673344e-01 2.55647050e-02\n",
            "  4.58315693e-01 1.76310600e-02]\n",
            " [2.61876812e-01 3.31253014e-01 8.05737869e-01 9.07191264e-01\n",
            "  8.22247359e-01 2.66246328e-01 9.80178015e-01 6.24522697e-01\n",
            "  9.13338096e-01 5.02780766e-01]\n",
            " [4.04733310e-01 8.73384372e-01 8.99030304e-01 1.87791792e-01\n",
            "  9.71896905e-01 5.08711415e-01 9.72343576e-01 2.25414480e-01\n",
            "  5.04266691e-01 3.06042467e-01]]\n",
            "# of axes in arr=1\n",
            "Shape of the arr (10,)\n",
            "Datatype of arr: float64\n",
            "Values of arr : [0.82816439 0.84528267 0.90891716 0.47392602 0.84699412 0.79960535\n",
            " 0.8872966  0.67430095 0.18039715 0.64885492]\n",
            "Shape of the x2 after broadcasting (1, 10)\n",
            "shape of x2 after broadcasting :  (32, 10)\n"
          ],
          "name": "stdout"
        }
      ]
    },
    {
      "cell_type": "code",
      "metadata": {
        "id": "8Leyrp-6Ey49",
        "colab_type": "code",
        "colab": {
          "base_uri": "https://localhost:8080/",
          "height": 34
        },
        "outputId": "17fbfb09-3242-4a01-aa33-3f4c39cb6d0e"
      },
      "source": [
        "# Numpy implements broadcasting implicitly\n",
        "x1 = np.random.rand(32,10)\n",
        "x2 = np.random.rand(10,)\n",
        "print((x1+x2).shape)"
      ],
      "execution_count": 17,
      "outputs": [
        {
          "output_type": "stream",
          "text": [
            "(32, 10)\n"
          ],
          "name": "stdout"
        }
      ]
    },
    {
      "cell_type": "markdown",
      "metadata": {
        "id": "e5buwolYGDI6",
        "colab_type": "text"
      },
      "source": [
        "### Reshaping\n",
        "\n",
        "Reshaping the tensors are done in data preprocessing."
      ]
    },
    {
      "cell_type": "code",
      "metadata": {
        "id": "ioQy56m5FvyN",
        "colab_type": "code",
        "colab": {
          "base_uri": "https://localhost:8080/",
          "height": 218
        },
        "outputId": "dddbbea9-db1f-4eea-eea4-6fa7c24bb698"
      },
      "source": [
        "x = np.array([[0.,1.],\n",
        "              [2., 3.],\n",
        "              [4.,5.]])\n",
        "print(\"x = \", x)\n",
        "print(\"Shape of x:\", x.shape)\n",
        "\n",
        "x = x.reshape(6,1)\n",
        "print(\"X after reshaped\", x)\n",
        "\n",
        "x = x.reshape(2,3)\n",
        "print(\"X after reshaped (2,3)\", x)"
      ],
      "execution_count": 21,
      "outputs": [
        {
          "output_type": "stream",
          "text": [
            "x =  [[0. 1.]\n",
            " [2. 3.]\n",
            " [4. 5.]]\n",
            "Shape of x: (3, 2)\n",
            "X after reshaped [[0.]\n",
            " [1.]\n",
            " [2.]\n",
            " [3.]\n",
            " [4.]\n",
            " [5.]]\n",
            "X after reshaped (2,3) [[0. 1. 2.]\n",
            " [3. 4. 5.]]\n"
          ],
          "name": "stdout"
        }
      ]
    },
    {
      "cell_type": "code",
      "metadata": {
        "id": "PerjwyosGY32",
        "colab_type": "code",
        "colab": {
          "base_uri": "https://localhost:8080/",
          "height": 34
        },
        "outputId": "eef143fe-6a3e-4d23-812c-81736f4fb3a6"
      },
      "source": [
        "# Transposing is a special case of reshaping\n",
        "x = np.zeros((300, 20))\n",
        "xt = np.transpose(x)\n",
        "print(xt.shape)"
      ],
      "execution_count": 23,
      "outputs": [
        {
          "output_type": "stream",
          "text": [
            "(20, 300)\n"
          ],
          "name": "stdout"
        }
      ]
    },
    {
      "cell_type": "code",
      "metadata": {
        "id": "FyrnR6BeG7ZV",
        "colab_type": "code",
        "colab": {}
      },
      "source": [
        ""
      ],
      "execution_count": 0,
      "outputs": []
    }
  ]
}